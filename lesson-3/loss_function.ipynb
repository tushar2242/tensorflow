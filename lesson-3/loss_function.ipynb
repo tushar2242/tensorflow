{
  "nbformat": 4,
  "nbformat_minor": 0,
  "metadata": {
    "colab": {
      "provenance": []
    },
    "kernelspec": {
      "name": "python3",
      "display_name": "Python 3"
    },
    "language_info": {
      "name": "python"
    }
  },
  "cells": [
    {
      "cell_type": "code",
      "execution_count": 5,
      "metadata": {
        "id": "QyOGletR70LA"
      },
      "outputs": [],
      "source": [
        "import numpy as np"
      ]
    },
    {
      "cell_type": "code",
      "source": [
        "y = np.array([3, 7, 5, 2])\n",
        "y_pred = np.array([4, 6, 6, 3])"
      ],
      "metadata": {
        "id": "Gc-lAN9i7-gm"
      },
      "execution_count": 22,
      "outputs": []
    },
    {
      "cell_type": "code",
      "source": [
        "def mae(y,y_pred):\n",
        "  return np.mean(np.abs(np.sum(y-y_pred)))\n",
        "  "
      ],
      "metadata": {
        "id": "wBdqsnVQ72GV"
      },
      "execution_count": 14,
      "outputs": []
    },
    {
      "cell_type": "code",
      "source": [
        "mae(y,y_pred)"
      ],
      "metadata": {
        "colab": {
          "base_uri": "https://localhost:8080/"
        },
        "id": "AvF8PfNO9MMu",
        "outputId": "94686e71-05c3-4518-acea-b647c3c4a36d"
      },
      "execution_count": 15,
      "outputs": [
        {
          "output_type": "execute_result",
          "data": {
            "text/plain": [
              "2.0"
            ]
          },
          "metadata": {},
          "execution_count": 15
        }
      ]
    },
    {
      "cell_type": "code",
      "source": [
        "def mse(y,y_pred):\n",
        "  return np.mean(np.sum(np.square(y-y_pred)))"
      ],
      "metadata": {
        "id": "XEIcBIYH9VJW"
      },
      "execution_count": 19,
      "outputs": []
    },
    {
      "cell_type": "code",
      "source": [
        "mse(y,y_pred)"
      ],
      "metadata": {
        "colab": {
          "base_uri": "https://localhost:8080/"
        },
        "id": "YVNOIeZs-Q_k",
        "outputId": "7c04ae12-4941-421c-9284-4c1eee08aa45"
      },
      "execution_count": 17,
      "outputs": [
        {
          "output_type": "stream",
          "name": "stdout",
          "text": [
            "-0.5\n"
          ]
        }
      ]
    },
    {
      "cell_type": "code",
      "source": [
        "y = np.array([1, 1, 0, 1])\n",
        "y_pred = np.array([0, 1, 1, 1])"
      ],
      "metadata": {
        "id": "O8MjR5pFDRbG"
      },
      "execution_count": 74,
      "outputs": []
    },
    {
      "cell_type": "code",
      "source": [
        "def bce(y,y_pred):\n",
        "  epsilon = 1e-10\n",
        "  y_pred1 = [max(i,epsilon) for i in y_pred]\n",
        "  y_pred1 = [min(i,1-epsilon) for i in y_pred1]\n",
        "  y_pred2 = np.array([y_pred1])\n",
        "  mean = -np.mean(y*np.log(y_pred2)+(1-y)*np.log(1-y_pred2))\n",
        "  print(mean)"
      ],
      "metadata": {
        "id": "KzCphOge-nx1"
      },
      "execution_count": 77,
      "outputs": []
    },
    {
      "cell_type": "code",
      "source": [
        "bce(y,y_pred)"
      ],
      "metadata": {
        "colab": {
          "base_uri": "https://localhost:8080/"
        },
        "id": "kzaG0EdpC5aG",
        "outputId": "76dea875-6bc8-4bdd-bdc1-d248949dd274"
      },
      "execution_count": 78,
      "outputs": [
        {
          "output_type": "stream",
          "name": "stdout",
          "text": [
            "11.512925444335139\n"
          ]
        }
      ]
    },
    {
      "cell_type": "code",
      "source": [],
      "metadata": {
        "id": "nB_E-7k8DFeF"
      },
      "execution_count": null,
      "outputs": []
    }
  ]
}